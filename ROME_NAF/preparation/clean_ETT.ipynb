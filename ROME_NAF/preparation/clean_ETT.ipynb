{
 "cells": [
  {
   "cell_type": "code",
   "execution_count": 1,
   "metadata": {
    "collapsed": true,
    "deletable": true,
    "editable": true
   },
   "outputs": [],
   "source": [
    "import collections\n",
    "\n",
    "import pandas as pd\n",
    "pd.set_option('display.max_columns', 500)"
   ]
  },
  {
   "cell_type": "code",
   "execution_count": 2,
   "metadata": {
    "collapsed": true,
    "deletable": true,
    "editable": true
   },
   "outputs": [],
   "source": [
    "filename_input = 'LBB_ETT_ETT_20160430_20170530_20170530_162434_sep.csv'\n",
    "filename_output = 'LBB_ETT_ETT_20160430_20170530_20170530_162434_clean.csv'"
   ]
  },
  {
   "cell_type": "code",
   "execution_count": 3,
   "metadata": {
    "collapsed": false,
    "deletable": true,
    "editable": true
   },
   "outputs": [],
   "source": [
    "f_input = open(filename_input, 'r')\n",
    "f_output = open(filename_output, 'w')"
   ]
  },
  {
   "cell_type": "code",
   "execution_count": 4,
   "metadata": {
    "collapsed": true,
    "deletable": true,
    "editable": true
   },
   "outputs": [],
   "source": [
    "header_intput = f_input.readline()"
   ]
  },
  {
   "cell_type": "code",
   "execution_count": 5,
   "metadata": {
    "collapsed": true,
    "deletable": true,
    "editable": true
   },
   "outputs": [],
   "source": [
    "column_names = header_intput[:-1].split('|')"
   ]
  },
  {
   "cell_type": "code",
   "execution_count": 6,
   "metadata": {
    "collapsed": false,
    "deletable": true,
    "editable": true
   },
   "outputs": [
    {
     "data": {
      "text/plain": [
       "120"
      ]
     },
     "execution_count": 6,
     "metadata": {},
     "output_type": "execute_result"
    }
   ],
   "source": [
    "columns_kept = [\n",
    " 'dn_nbjcaltotalmission',\n",
    " 'dc_nafinsee700_id',\n",
    " 'dn_nbmission',\n",
    " 'dc_nafrefv2_id',\n",
    " 'dc_trancheeffectif_id',\n",
    " 'dc_romev3_1_id',\n",
    " 'dc_romev3_2_id',\n",
    "]\n",
    "header_output = '|'.join(columns_kept) + '\\n'\n",
    "f_output.write(header_output)"
   ]
  },
  {
   "cell_type": "code",
   "execution_count": 7,
   "metadata": {
    "collapsed": false,
    "deletable": true,
    "editable": true
   },
   "outputs": [
    {
     "data": {
      "text/plain": [
       "[4, 7, 8, 9, 12, 13, 16]"
      ]
     },
     "execution_count": 7,
     "metadata": {},
     "output_type": "execute_result"
    }
   ],
   "source": [
    "index_kept = [\n",
    "    column_names.index(column_name)\n",
    "    for column_name in columns_kept\n",
    "]\n",
    "index_kept"
   ]
  },
  {
   "cell_type": "code",
   "execution_count": 8,
   "metadata": {
    "collapsed": true,
    "deletable": true,
    "editable": true
   },
   "outputs": [],
   "source": [
    "index_dc_romev3_1_id = column_names.index('dc_romev3_1_id')\n",
    "index_dc_nafrefv2_id = column_names.index('dc_nafrefv2_id')"
   ]
  },
  {
   "cell_type": "code",
   "execution_count": 9,
   "metadata": {
    "collapsed": false,
    "deletable": true,
    "editable": true
   },
   "outputs": [
    {
     "name": "stdout",
     "output_type": "stream",
     "text": [
      "0\n",
      "1000000\n",
      "3000000\n",
      "4000000\n",
      "5000000\n",
      "6000000\n",
      "7000000\n",
      "8000000\n",
      "10000000\n",
      "11000000\n",
      "12000000\n",
      "13000000\n",
      "16000000\n",
      "17000000\n",
      "18000000\n",
      "19000000\n"
     ]
    }
   ],
   "source": [
    "for i, line_input in enumerate(f_input):\n",
    "    cells = line_input[:-1].split('|')\n",
    "    \n",
    "    # Remove lines with no ROME\n",
    "    set_null = {'NULL', 'null', ''}\n",
    "    dc_romev3_1_id = cells[index_dc_romev3_1_id]\n",
    "    if dc_romev3_1_id in set_null:\n",
    "        continue\n",
    "   \n",
    "    ## Remove lines with no NAF\n",
    "    #dc_nafrefv2_id = cells[index_dc_nafrefv2_id]\n",
    "    #if dc_nafrefv2_id in set_null:\n",
    "    #    continue\n",
    "   \n",
    "\n",
    "    cells_kept = [\n",
    "        cells[i]\n",
    "        for i in index_kept\n",
    "    ]\n",
    "    line_output = '|'.join(cells_kept) + '\\n'\n",
    "    f_output.write(line_output)\n",
    "    \n",
    "    if i % 1000000 == 0:\n",
    "        print(i)"
   ]
  },
  {
   "cell_type": "code",
   "execution_count": 10,
   "metadata": {
    "collapsed": true,
    "deletable": true,
    "editable": true
   },
   "outputs": [],
   "source": [
    "f_input.close\n",
    "f_output.close()"
   ]
  },
  {
   "cell_type": "code",
   "execution_count": null,
   "metadata": {
    "collapsed": true,
    "deletable": true,
    "editable": true
   },
   "outputs": [],
   "source": []
  }
 ],
 "metadata": {
  "kernelspec": {
   "display_name": "Python 3",
   "language": "python",
   "name": "python3"
  },
  "language_info": {
   "codemirror_mode": {
    "name": "ipython",
    "version": 3
   },
   "file_extension": ".py",
   "mimetype": "text/x-python",
   "name": "python",
   "nbconvert_exporter": "python",
   "pygments_lexer": "ipython3",
   "version": "3.4.3"
  }
 },
 "nbformat": 4,
 "nbformat_minor": 2
}
