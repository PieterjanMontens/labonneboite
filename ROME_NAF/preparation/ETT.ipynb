{
 "cells": [
  {
   "cell_type": "code",
   "execution_count": 1,
   "metadata": {
    "collapsed": true,
    "deletable": true,
    "editable": true
   },
   "outputs": [],
   "source": [
    "import collections\n",
    "\n",
    "from matplotlib import pyplot as plt\n",
    "%matplotlib inline\n",
    "import pandas as pd\n",
    "pd.set_option('display.max_columns', 500)"
   ]
  },
  {
   "cell_type": "code",
   "execution_count": 2,
   "metadata": {
    "collapsed": true,
    "deletable": true,
    "editable": true
   },
   "outputs": [],
   "source": [
    "filename = 'LBB_ETT_ETT_20160418_20170518_20170518_165325_sample.csv'"
   ]
  },
  {
   "cell_type": "code",
   "execution_count": null,
   "metadata": {
    "collapsed": true
   },
   "outputs": [],
   "source": [
    "df = pd.read_csv(filename, sep='|', encoding='utf-8', na_filter=False)"
   ]
  },
  {
   "cell_type": "code",
   "execution_count": 7,
   "metadata": {
    "collapsed": false,
    "deletable": true,
    "editable": true
   },
   "outputs": [
    {
     "data": {
      "text/html": [
       "<div>\n",
       "<table border=\"1\" class=\"dataframe\">\n",
       "  <thead>\n",
       "    <tr style=\"text-align: right;\">\n",
       "      <th></th>\n",
       "      <th>siret_ett</th>\n",
       "      <th>siret_etu</th>\n",
       "      <th>dd_datedebutmission</th>\n",
       "      <th>dd_datefinmission</th>\n",
       "      <th>dn_nbjcaltotalmission</th>\n",
       "      <th>dn_nbjouvrestotalmission</th>\n",
       "      <th>dc_pcssimplifieesiett_trans_id</th>\n",
       "      <th>dc_nafinsee700_id</th>\n",
       "      <th>dn_nbmission</th>\n",
       "      <th>dc_nafrefv2_id</th>\n",
       "      <th>dc_lblpcsinsee</th>\n",
       "      <th>dc_cptdptrgnsiett_etu_id</th>\n",
       "      <th>dc_trancheeffectif_id</th>\n",
       "      <th>dc_romev3_1_id</th>\n",
       "      <th>dc_pcssimplifieesiett_decla_id</th>\n",
       "      <th>dc_cptdptrgnsiett_lieu2_id</th>\n",
       "    </tr>\n",
       "  </thead>\n",
       "  <tbody>\n",
       "  </tbody>\n",
       "</table>\n",
       "</div>"
      ],
      "text/plain": [
       "Empty DataFrame\n",
       "Columns: [siret_ett, siret_etu, dd_datedebutmission, dd_datefinmission, dn_nbjcaltotalmission, dn_nbjouvrestotalmission, dc_pcssimplifieesiett_trans_id, dc_nafinsee700_id, dn_nbmission, dc_nafrefv2_id, dc_lblpcsinsee, dc_cptdptrgnsiett_etu_id, dc_trancheeffectif_id, dc_romev3_1_id, dc_pcssimplifieesiett_decla_id, dc_cptdptrgnsiett_lieu2_id]\n",
       "Index: []"
      ]
     },
     "execution_count": 7,
     "metadata": {},
     "output_type": "execute_result"
    }
   ],
   "source": [
    "df[df.dc_romev3_1_id != 'NULL']"
   ]
  },
  {
   "cell_type": "code",
   "execution_count": 8,
   "metadata": {
    "collapsed": true,
    "deletable": true,
    "editable": true
   },
   "outputs": [],
   "source": [
    "column_names = [\n",
    " 'dn_nbjcaltotalmission',\n",
    " 'dc_nafinsee700_id',\n",
    " 'dn_nbmission',\n",
    " 'dc_nafrefv2_id',\n",
    " 'dc_trancheeffectif_id',\n",
    " 'dc_romev3_1_id',\n",
    " #'dc_romev3_2_id',\n",
    "]"
   ]
  },
  {
   "cell_type": "code",
   "execution_count": null,
   "metadata": {
    "collapsed": true
   },
   "outputs": [],
   "source": [
    "df[column_names][::55]"
   ]
  }
 ],
 "metadata": {
  "kernelspec": {
   "display_name": "Python 3",
   "language": "python",
   "name": "python3"
  },
  "language_info": {
   "codemirror_mode": {
    "name": "ipython",
    "version": 3
   },
   "file_extension": ".py",
   "mimetype": "text/x-python",
   "name": "python",
   "nbconvert_exporter": "python",
   "pygments_lexer": "ipython3",
   "version": "3.5.2"
  }
 },
 "nbformat": 4,
 "nbformat_minor": 2
}
